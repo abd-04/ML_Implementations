{
  "cells": [
    {
      "cell_type": "markdown",
      "source": [
        "Forward prop implementation"
      ],
      "metadata": {
        "id": "F3VkWyg-Xbwh"
      }
    },
    {
      "cell_type": "code",
      "source": [
        "import numpy as np\n",
        "\n",
        "def sigmoid(z):\n",
        "  return 1/(1+np.exp(-z))\n",
        "\n",
        "\n",
        "x=np.array([10,30])\n",
        "\n",
        "W1=np.array([\n",
        "    [2,0.2],    #no. of weights for each neuron=no. of input features\n",
        "    [3,-9],     #n2\n",
        "    [-0.2,6]    #n3\n",
        "])\n",
        "\n",
        "B1=np.array([4,-5,2])   #bias is unique to each neuron\n",
        "\n",
        "Z1=np.dot(W1,x)+B1  #the linear combination for the layer 1\n",
        "A1=sigmoid(Z1)    #the activation values for layer 1 are the \"input features for the output layer\"\n",
        "                  #a=[a1,a2,a3]\n",
        "W2=np.array([-0.2,3,7])   #hence 3 weights for the only neuron in this\n",
        "                          # because 3 inputs(the activation values)\n",
        "\n",
        "B2=5                #1 bias val since only 1 neuron\n",
        "Z2=np.dot(W2,A1)+B2\n",
        "A2=sigmoid(Z2)        #the outer layers activation value is the final output\n",
        "\n",
        "print(\"Hidden layer linear combination: \", Z1)\n",
        "print(\"Hidden layer activaition: \", A1)\n",
        "print(\"Output layer linear combination: \", Z2)\n",
        "print(\"Final output \", A2)"
      ],
      "metadata": {
        "colab": {
          "base_uri": "https://localhost:8080/"
        },
        "id": "lnend6X2XGHR",
        "outputId": "136cc6ed-62e2-48c2-f8d5-a38b5472d5c8"
      },
      "execution_count": 6,
      "outputs": [
        {
          "output_type": "stream",
          "name": "stdout",
          "text": [
            "Hidden layer linear combination:  [  30. -245.  180.]\n",
            "Hidden layer activaition:  [1.00000000e+000 3.96142952e-107 1.00000000e+000]\n",
            "Output layer linear combination:  11.800000000000018\n",
            "Final output  0.9999924954984029\n"
          ]
        }
      ]
    }
  ],
  "metadata": {
    "colab": {
      "provenance": []
    },
    "kernelspec": {
      "display_name": "Python 3",
      "name": "python3"
    },
    "language_info": {
      "name": "python"
    }
  },
  "nbformat": 4,
  "nbformat_minor": 0
}